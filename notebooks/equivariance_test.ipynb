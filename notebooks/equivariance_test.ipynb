{
 "cells": [
  {
   "cell_type": "code",
   "execution_count": 136,
   "metadata": {},
   "outputs": [
    {
     "name": "stdout",
     "output_type": "stream",
     "text": [
      "The autoreload extension is already loaded. To reload it, use:\n",
      "  %reload_ext autoreload\n"
     ]
    }
   ],
   "source": [
    "import numpy as np\n",
    "import jax.numpy as jnp\n",
    "import jax\n",
    "import flax.linen as nn\n",
    "import jraph\n",
    "\n",
    "%load_ext autoreload\n",
    "%autoreload 2"
   ]
  },
  {
   "cell_type": "code",
   "execution_count": 137,
   "metadata": {},
   "outputs": [],
   "source": [
    "import sys\n",
    "sys.path.append(\"../\")\n",
    "\n",
    "from models.egnn import EGNN\n",
    "from models.graph_utils import nearest_neighbors, rotate_representation"
   ]
  },
  {
   "cell_type": "code",
   "execution_count": 138,
   "metadata": {},
   "outputs": [],
   "source": [
    "import numpy as np\n",
    "\n",
    "n_nodes = 2000\n",
    "n_feat = 3\n",
    "positions_only = True\n",
    "\n",
    "x = np.load(\"/Users/smsharma/Downloads/halos_small.npy\")[:, :n_nodes, :]\n",
    "\n",
    "x_mean = x.mean((0, 1))\n",
    "x_std = x.std((0, 1))\n",
    "x[:, :, 3:] = (x[:, :, 3:] - x_mean[3:]) / x_std[3:]\n",
    "x[:, :, :3] = x[:, :, :3] / 1000."
   ]
  },
  {
   "cell_type": "code",
   "execution_count": 139,
   "metadata": {},
   "outputs": [],
   "source": [
    "k = 10\n",
    "n_batch = 1\n",
    "\n",
    "sources, targets = jax.vmap(nearest_neighbors, in_axes=(0, None))(x[:n_batch], k)"
   ]
  },
  {
   "cell_type": "code",
   "execution_count": 140,
   "metadata": {},
   "outputs": [],
   "source": [
    "class GraphWrapper(nn.Module):\n",
    "    @nn.compact\n",
    "    def __call__(self, x):\n",
    "        model = jax.vmap(EGNN(\n",
    "                        message_passing_steps=3, d_hidden=32, n_layers=3, skip_connections=False, activation='gelu',\n",
    "                        positions_only=positions_only\n",
    "                ))\n",
    "        return model(x)\n",
    "\n",
    "model = GraphWrapper()\n",
    "rng = jax.random.PRNGKey(42)"
   ]
  },
  {
   "cell_type": "code",
   "execution_count": 141,
   "metadata": {},
   "outputs": [
    {
     "name": "stdout",
     "output_type": "stream",
     "text": [
      "(20000, 3, 5)\n",
      "(20000, 3, 5)\n",
      "(20000, 3, 5)\n",
      "(20000, 3, 5)\n",
      "(20000, 3, 5)\n",
      "(20000, 3, 5)\n"
     ]
    }
   ],
   "source": [
    "graph = jraph.GraphsTuple(\n",
    "          n_node=np.array(n_batch * [[n_nodes]]), \n",
    "          n_edge=np.array(n_batch * [[k]]),\n",
    "          nodes=x[:n_batch, :, :n_feat], \n",
    "          edges=None,\n",
    "          globals=np.ones((n_batch, 7)),\n",
    "          senders=sources,\n",
    "          receivers=targets)\n",
    "\n",
    "graph_out, _ = model.init_with_output(rng, graph)\n",
    "\n",
    "x_out = graph_out.nodes\n",
    "\n",
    "angle_deg = 45.\n",
    "axis = np.array([0, 1 / np.sqrt(2), 1 / np.sqrt(2)])\n",
    "\n",
    "x_out_rot = jax.vmap(rotate_representation, in_axes=(0,None,None,None))(x_out, angle_deg, axis, positions_only)\n",
    "\n",
    "def get_rotated(x_rot):\n",
    "\n",
    "    graph = jraph.GraphsTuple(\n",
    "              n_node=np.array(n_batch * [[n_nodes]]), \n",
    "              n_edge=np.array(n_batch * [[k]]),\n",
    "              nodes=x_rot[:n_batch, :, :n_feat],\n",
    "              edges=None,\n",
    "              globals=np.ones((n_batch, 7)),\n",
    "              senders=sources,\n",
    "              receivers=targets)\n",
    "\n",
    "    graph_out, _ = model.init_with_output(rng, graph)\n",
    "    x_out = graph_out.nodes\n",
    "    \n",
    "    return x_out\n",
    "\n",
    "x_out = get_rotated(jax.vmap(rotate_representation, in_axes=(0,None,None,None))(x[:n_batch, :, :], angle_deg, axis, positions_only))"
   ]
  },
  {
   "cell_type": "code",
   "execution_count": 142,
   "metadata": {},
   "outputs": [
    {
     "data": {
      "text/plain": [
       "(1, 2000, 3)"
      ]
     },
     "execution_count": 142,
     "metadata": {},
     "output_type": "execute_result"
    }
   ],
   "source": [
    "x_out.shape"
   ]
  },
  {
   "cell_type": "code",
   "execution_count": 143,
   "metadata": {},
   "outputs": [
    {
     "name": "stdout",
     "output_type": "stream",
     "text": [
      "1.0001143 0.99994147 [[[0.9999999 1.        1.       ]\n",
      "  [1.0000114 1.        1.       ]\n",
      "  [1.0000001 1.        1.0000001]\n",
      "  ...\n",
      "  [1.0000001 1.        0.9999999]\n",
      "  [0.9999999 1.0000002 1.0000001]\n",
      "  [1.        1.0000001 1.       ]]]\n"
     ]
    }
   ],
   "source": [
    "# Equivariance ratio\n",
    "eq_ratio = x_out / x_out_rot\n",
    "print(eq_ratio.max(), eq_ratio.min(), eq_ratio)"
   ]
  },
  {
   "cell_type": "code",
   "execution_count": null,
   "metadata": {},
   "outputs": [],
   "source": []
  }
 ],
 "metadata": {
  "kernelspec": {
   "display_name": "torch-mps",
   "language": "python",
   "name": "python3"
  },
  "language_info": {
   "codemirror_mode": {
    "name": "ipython",
    "version": 3
   },
   "file_extension": ".py",
   "mimetype": "text/x-python",
   "name": "python",
   "nbconvert_exporter": "python",
   "pygments_lexer": "ipython3",
   "version": "3.9.13"
  },
  "orig_nbformat": 4
 },
 "nbformat": 4,
 "nbformat_minor": 2
}
